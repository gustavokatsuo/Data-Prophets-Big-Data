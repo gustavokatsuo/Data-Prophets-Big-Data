{
 "cells": [
  {
   "cell_type": "code",
   "execution_count": null,
   "id": "2c7493ca",
   "metadata": {},
   "outputs": [],
   "source": [
    "import pandas as pd\n",
    "import matplotlib.pyplot as plt\n",
    "import seaborn as sns\n",
    "\n",
    "print(\"Bibliotecas importadas!\")"
   ]
  },
  {
   "cell_type": "code",
   "execution_count": null,
   "id": "a7c5057c",
   "metadata": {},
   "outputs": [],
   "source": [
    "try:\n",
    "    # Montando os dataframes\n",
    "    path_transacoes = '../data/part-00000-tid-2779033056155408584-f6316110-4c9a-4061-ae48-69b77c7c8c36-4-1-c000.snappy.parquet'\n",
    "    path_produtos = '../part-00000-tid-5196563791502273604-c90d3a24-52f2-4955-b4ec-fb143aae74d8-4-1-c000.snappy.parquet'\n",
    "    path_pdvs = '../data/part-00000-tid-7173294866425216458-eae53fbf-d19e-4130-ba74-78f96b9675f1-4-1-c000.snappy.parquet'\n",
    "\n",
    "    df_transacoes = pd.read_parquet(path_transacoes)\n",
    "    df_produtos = pd.read_parquet(path_produtos)\n",
    "    df_pdvs = pd.read_parquet(path_pdvs)\n",
    "\n",
    "    print(\"Arquivos Parquet carregados com sucesso!\")\n",
    "\n",
    "    # Unindo os dataframes\n",
    "    df_completo = pd.merge(df_transacoes, df_produtos, on='produto', how='left')\n",
    "    df_completo = pd.merge(df_completo, df_pdvs, on='pdv', how='left')\n",
    "\n",
    "    print(\"DataFrames unidos!\")\n",
    "    \n",
    "    # Mostra as 5 primeiras linhas para confirmar que tudo funcionou\n",
    "    display(df_completo.head())\n",
    "\n",
    "except FileNotFoundError:\n",
    "    print(\"ERRO: Arquivos Parquet não encontrados na pasta /data/. Verifique se você moveu os arquivos para lá.\")"
   ]
  },
  {
   "cell_type": "markdown",
   "id": "5508e51b",
   "metadata": {},
   "source": []
  }
 ],
 "metadata": {
  "kernelspec": {
   "display_name": "Python 3 (ipykernel)",
   "language": "python",
   "name": "python3"
  },
  "language_info": {
   "codemirror_mode": {
    "name": "ipython",
    "version": 3
   },
   "file_extension": ".py",
   "mimetype": "text/x-python",
   "name": "python",
   "nbconvert_exporter": "python",
   "pygments_lexer": "ipython3",
   "version": "3.11.2"
  }
 },
 "nbformat": 4,
 "nbformat_minor": 5
}
