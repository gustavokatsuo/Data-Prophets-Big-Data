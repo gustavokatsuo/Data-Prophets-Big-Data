{
 "cells": [
  {
   "cell_type": "code",
   "execution_count": 5,
   "id": "5a2b3ebd",
   "metadata": {},
   "outputs": [],
   "source": [
    "import pandas as pd\n",
    "\n",
    "df = pd.read_csv(r'output\\submission_lightgbm_jan2023_20250922_133337.csv', sep=';')"
   ]
  },
  {
   "cell_type": "code",
   "execution_count": 6,
   "id": "5de4d574",
   "metadata": {},
   "outputs": [
    {
     "name": "stdout",
     "output_type": "stream",
     "text": [
      "Total de vendas previstas: 10789624\n",
      "Total de valores 0 previstos: 0 de 2403915 registros\n"
     ]
    }
   ],
   "source": [
    "print(f\"Total de vendas previstas: {df['quantidade'].sum()}\")\n",
    "print(f\"Total de valores 0 previstos: {(df['quantidade'] == 0).sum()} de {len(df)} registros\")"
   ]
  }
 ],
 "metadata": {
  "language_info": {
   "name": "python"
  }
 },
 "nbformat": 4,
 "nbformat_minor": 5
}
